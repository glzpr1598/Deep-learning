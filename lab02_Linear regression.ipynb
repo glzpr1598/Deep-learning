{
 "cells": [
  {
   "cell_type": "code",
   "execution_count": 13,
   "metadata": {
    "scrolled": false
   },
   "outputs": [
    {
     "name": "stdout",
     "output_type": "stream",
     "text": [
      "0 8.790969 [0.103765] [-1.0807647]\n",
      "100 0.029329404 [1.1988969] [-0.45216367]\n",
      "200 0.01812378 [1.156358] [-0.3554387]\n",
      "300 0.011199392 [1.1229117] [-0.2794072]\n",
      "400 0.0069205486 [1.0966198] [-0.21963955]\n",
      "500 0.0042764884 [1.075952] [-0.17265685]\n",
      "600 0.002642607 [1.059705] [-0.13572405]\n",
      "700 0.0016329704 [1.0469337] [-0.1066914]\n",
      "800 0.0010090781 [1.0368942] [-0.08386929]\n",
      "900 0.0006235482 [1.0290022] [-0.06592878]\n",
      "1000 0.00038531589 [1.0227984] [-0.0518261]\n",
      "1100 0.00023809828 [1.0179214] [-0.04073979]\n",
      "1200 0.00014712977 [1.0140879] [-0.0320251]\n",
      "1300 9.0917434e-05 [1.0110744] [-0.02517482]\n",
      "1400 5.6181943e-05 [1.0087055] [-0.01978973]\n",
      "1500 3.4716806e-05 [1.0068434] [-0.01555652]\n",
      "1600 2.1452855e-05 [1.0053796] [-0.0122289]\n",
      "1700 1.3257205e-05 [1.0042288] [-0.00961312]\n",
      "1800 8.192062e-06 [1.0033244] [-0.00755688]\n",
      "1900 5.062591e-06 [1.0026133] [-0.00594048]\n",
      "2000 3.1284533e-06 [1.0020542] [-0.00466991]\n"
     ]
    }
   ],
   "source": [
    "import tensorflow as tf\n",
    "\n",
    "#### 그래프 구현 ####\n",
    "# x, y 데이터\n",
    "x_train = [1, 2, 3]\n",
    "y_train = [1, 2, 3]\n",
    "\n",
    "# W, b 지정\n",
    "W = tf.Variable(tf.random_normal([1]), name='weight')\n",
    "b = tf.Variable(tf.random_normal([1]), name='bias')\n",
    "# Variable : tensorflow가 학습하면서 변경하는 값\n",
    "\n",
    "# 함수 정의\n",
    "hypothesis = W * x_train + b\n",
    "cost = tf.reduce_mean(tf.square(hypothesis - y_train))\n",
    "# reduce_maen : 평균\n",
    "\n",
    "# Gradient descent\n",
    "optimizer = tf.train.GradientDescentOptimizer(learning_rate=0.01)\n",
    "train = optimizer.minimize(cost)\n",
    "\n",
    "\n",
    "#### 그래프 실행 ####\n",
    "# 세션 생성\n",
    "sess = tf.Session()\n",
    "# Vaiable을 사용하기 위해서는 Variable을 초기화 해야함\n",
    "sess.run(tf.global_variables_initializer())\n",
    "\n",
    "for step in range(2001): # range() 숫자 리스트를 만들어주는 함수\n",
    "    sess.run(train)\n",
    "    if step % 100 == 0:\n",
    "        print(step, sess.run(cost), sess.run(W), sess.run(b))"
   ]
  },
  {
   "cell_type": "code",
   "execution_count": 34,
   "metadata": {
    "scrolled": false
   },
   "outputs": [
    {
     "name": "stdout",
     "output_type": "stream",
     "text": [
      "0 66.522514 [-2.177921] [0.68312865]\n",
      "100 0.060190637 [0.7157184] [1.7461791]\n",
      "200 0.03719416 [0.776546] [1.6079633]\n",
      "300 0.022983735 [0.8243449] [1.4993052]\n",
      "400 0.014202554 [0.8619191] [1.4138904]\n",
      "500 0.008776331 [0.8914557] [1.3467466]\n",
      "600 0.005423231 [0.9146742] [1.2939655]\n",
      "700 0.0033512365 [0.93292624] [1.2524744]\n",
      "800 0.0020708574 [0.9472739] [1.2198588]\n",
      "900 0.0012796733 [0.9585525] [1.19422]\n",
      "1000 0.0007907629 [0.9674184] [1.1740656]\n",
      "1100 0.00048863835 [0.97438794] [1.1582221]\n",
      "1200 0.00030194796 [0.9798667] [1.1457679]\n",
      "1300 0.00018658699 [0.98417324] [1.1359777]\n",
      "1400 0.00011530064 [0.9875587] [1.1282818]\n",
      "1500 7.1247916e-05 [0.99022] [1.1222321]\n",
      "1600 4.4028915e-05 [0.9923119] [1.1174768]\n",
      "1700 2.7207703e-05 [0.99395645] [1.1137384]\n",
      "1800 1.6812211e-05 [0.9952492] [1.1107997]\n",
      "1900 1.0388664e-05 [0.99626553] [1.1084892]\n",
      "2000 6.4187793e-06 [0.9970645] [1.106673]\n"
     ]
    }
   ],
   "source": [
    "# placeholder 이용\n",
    "\n",
    "import tensorflow as tf\n",
    "\n",
    "#### 그래프 구현 ####\n",
    "# x, y 데이터(placeholder)\n",
    "X = tf.placeholder(tf.float32, shape=[None])\n",
    "Y = tf.placeholder(tf.float32, shape=[None])\n",
    "\n",
    "# W, b 지정\n",
    "W = tf.Variable(tf.random_normal([1]), name='weight')\n",
    "b = tf.Variable(tf.random_normal([1]), name='bias')\n",
    "# Variable : tensorflow가 학습하면서 변경하는 값\n",
    "\n",
    "# 함수 정의\n",
    "hypothesis = W * X + b\n",
    "cost = tf.reduce_mean(tf.square(hypothesis - Y))\n",
    "# reduce_maen : 평균\n",
    "\n",
    "# Gradient descent\n",
    "optimizer = tf.train.GradientDescentOptimizer(learning_rate=0.01)\n",
    "train = optimizer.minimize(cost)\n",
    "\n",
    "\n",
    "#### 그래프 실행 ####\n",
    "# 세션 생성\n",
    "sess = tf.Session()\n",
    "# Vaiable을 사용하기 위해서는 Variable을 초기화 해야함\n",
    "sess.run(tf.global_variables_initializer())\n",
    "\n",
    "for step in range(2001): # range() 숫자 리스트를 만들어주는 함수\n",
    "    # sess.run을 실행한 결과를 변수에 넣어서 바로 출력 가능\n",
    "    cost_val, W_val, b_val, _ = sess.run([cost, W, b, train], feed_dict={X: [1, 2, 3], Y: [2.1, 3.1, 4.1]})\n",
    "    if step % 100 == 0:\n",
    "        print(step, cost_val, W_val, b_val)"
   ]
  },
  {
   "cell_type": "code",
   "execution_count": 38,
   "metadata": {},
   "outputs": [
    {
     "name": "stdout",
     "output_type": "stream",
     "text": [
      "[6.0919952]\n",
      "[2.6022696 4.5963984]\n"
     ]
    }
   ],
   "source": [
    "# 테스트\n",
    "print(sess.run(hypothesis, feed_dict={X: [5]}))\n",
    "print(sess.run(hypothesis, feed_dict={X: [1.5, 3.5]}))"
   ]
  }
 ],
 "metadata": {
  "kernelspec": {
   "display_name": "Python [conda env:tensorflow]",
   "language": "python",
   "name": "conda-env-tensorflow-py"
  },
  "language_info": {
   "codemirror_mode": {
    "name": "ipython",
    "version": 3
   },
   "file_extension": ".py",
   "mimetype": "text/x-python",
   "name": "python",
   "nbconvert_exporter": "python",
   "pygments_lexer": "ipython3",
   "version": "3.5.5"
  }
 },
 "nbformat": 4,
 "nbformat_minor": 2
}
