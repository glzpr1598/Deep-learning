{
 "cells": [
  {
   "cell_type": "code",
   "execution_count": 18,
   "metadata": {},
   "outputs": [
    {
     "name": "stdout",
     "output_type": "stream",
     "text": [
      "0 1.1394732\n",
      "200 0.550836\n",
      "400 0.44805205\n",
      "600 0.37072587\n",
      "800 0.29764614\n",
      "1000 0.23823643\n",
      "1200 0.21529178\n",
      "1400 0.19635378\n",
      "1600 0.18039285\n",
      "1800 0.16675925\n",
      "2000 0.1549838\n",
      "\n",
      "---------------- test1 ----------------\n",
      "[[2.4914981e-03 9.9749833e-01 1.0061518e-05]]  ->  [1]\n",
      "\n",
      "---------------- test2 ----------------\n",
      "[[0.9052905  0.08506272 0.00964677]]  ->  [0]\n",
      "\n",
      "---------------- test3 ----------------\n",
      "[[1.5342707e-08 3.5793739e-04 9.9964201e-01]]  ->  [2]\n",
      "\n",
      "---------------- test4 ----------------\n",
      "[[2.4914981e-03 9.9749833e-01 1.0061518e-05]\n",
      " [9.0529048e-01 8.5062720e-02 9.6467715e-03]\n",
      " [1.5342707e-08 3.5793739e-04 9.9964201e-01]]  ->  [1 0 2]\n"
     ]
    }
   ],
   "source": [
    "#### Softmax classification ####\n",
    "\n",
    "import tensorflow as tf\n",
    "\n",
    "x_data = [[1, 2, 1, 1], [2, 1, 3, 2], [3, 1, 3, 4], [4, 1, 5, 5],\n",
    "             [1, 7, 5, 5], [1, 2, 5, 6], [1, 6, 6, 6], [1, 7, 7, 7]]\n",
    "y_data = [[0, 0, 1], [0, 0, 1], [0, 0, 1], [0, 1, 0], [0, 1, 0], [0, 1, 0], [1, 0, 0], [1, 0, 0]]\n",
    "\n",
    "X = tf.placeholder(\"float\", [None, 4])\n",
    "Y = tf.placeholder(\"float\", [None, 3])\n",
    "nb_classes = 3\n",
    "\n",
    "W = tf.Variable(tf.random_normal([4, nb_classes]), name='weight')\n",
    "b = tf.Variable(tf.random_normal([nb_classes]), name='bias')\n",
    "\n",
    "hypothesis = tf.nn.softmax(tf.matmul(X, W) + b)\n",
    "cost = tf.reduce_mean(-tf.reduce_sum(Y * tf.log(hypothesis), axis=1))\n",
    "optimizer = tf.train.GradientDescentOptimizer(learning_rate=0.1).minimize(cost)\n",
    "\n",
    "with tf.Session() as sess:\n",
    "    sess.run(tf.global_variables_initializer())\n",
    "    \n",
    "    for step in range(2001):\n",
    "        sess.run(optimizer, feed_dict={X: x_data, Y: y_data})\n",
    "        if step % 200 == 0:\n",
    "            print(step, sess.run(cost, feed_dict={X: x_data, Y: y_data}))\n",
    "            \n",
    "    # 테스트(one-hot encoding)\n",
    "    print('\\n---------------- test1 ----------------')\n",
    "    a = sess.run(hypothesis, feed_dict={X: [[1, 11, 7, 9]]})\n",
    "    print(a, \" -> \", sess.run(tf.argmax(a, 1))) # argmax : 가장 큰 값의 index 반환\n",
    "    \n",
    "    print('\\n---------------- test2 ----------------')\n",
    "    b = sess.run(hypothesis, feed_dict={X: [[1, 3, 4, 3]]})\n",
    "    print(b, \" -> \", sess.run(tf.argmax(b, 1)))\n",
    "\n",
    "    print('\\n---------------- test3 ----------------')\n",
    "    c = sess.run(hypothesis, feed_dict={X: [[1, 1, 0, 1]]})\n",
    "    print(c, \" -> \", sess.run(tf.argmax(c, 1)))\n",
    "\n",
    "    print('\\n---------------- test4 ----------------')\n",
    "    all = sess.run(hypothesis, feed_dict={\n",
    "                   X: [[1, 11, 7, 9], [1, 3, 4, 3], [1, 1, 0, 1]]})\n",
    "    print(all, \" -> \", sess.run(tf.argmax(all, 1)))"
   ]
  }
 ],
 "metadata": {
  "kernelspec": {
   "display_name": "Python [conda env:tensorflow]",
   "language": "python",
   "name": "conda-env-tensorflow-py"
  },
  "language_info": {
   "codemirror_mode": {
    "name": "ipython",
    "version": 3
   },
   "file_extension": ".py",
   "mimetype": "text/x-python",
   "name": "python",
   "nbconvert_exporter": "python",
   "pygments_lexer": "ipython3",
   "version": "3.5.5"
  }
 },
 "nbformat": 4,
 "nbformat_minor": 2
}
