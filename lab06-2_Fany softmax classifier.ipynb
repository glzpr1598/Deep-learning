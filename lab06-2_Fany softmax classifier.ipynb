{
 "cells": [
  {
   "cell_type": "code",
   "execution_count": 8,
   "metadata": {
    "scrolled": false
   },
   "outputs": [
    {
     "name": "stdout",
     "output_type": "stream",
     "text": [
      "(101, 16) (101, 1)\n",
      "one_hot : Tensor(\"one_hot_3:0\", shape=(?, 1, 7), dtype=float32)\n",
      "reshape : Tensor(\"Reshape_2:0\", shape=(?, 7), dtype=float32)\n"
     ]
    }
   ],
   "source": [
    "#### cross_entropy, one_hot, reshape ####\n",
    "\n",
    "import tensorflow as tf\n",
    "import numpy as np\n",
    "tf.set_random_seed(777)\n",
    "\n",
    "# 16개의 데이터를 통해 동물의 종(0 ~ 6)을 나타내는 데이터\n",
    "xy = np.loadtxt('data/data-04-zoo.csv', delimiter=',', dtype=np.float32)\n",
    "x_data = xy[:, 0:-1]\n",
    "y_data = xy[:, [-1]]\n",
    "\n",
    "print(x_data.shape, y_data.shape)\n",
    "# (101, 16) (101, 1)\n",
    "\n",
    "nb_classes = 7  # 0 ~ 6\n",
    "\n",
    "X = tf.placeholder(tf.float32, [None, 16])\n",
    "Y = tf.placeholder(tf.int32, [None, 1])  # 0 ~ 6, shape = (?, 1)\n",
    "\n",
    "# Y를 one hot 형태로 변환. rank가 1 늘어남.\n",
    "Y_one_hot = tf.one_hot(Y, nb_classes)  # shape = (?, 1, 7)\n",
    "print(\"one_hot :\", Y_one_hot)\n",
    "\n",
    "# rank를 다시 줄여줌. 우리가 원하는 형태.\n",
    "# [[1, 0, 0, 0, 0, 0, 0], [0, 0, 0, 1, 0, 0, 0], ...]\n",
    "Y_one_hot = tf.reshape(Y_one_hot, [-1, nb_classes])  # shape = (?, 7)\n",
    "print(\"reshape :\", Y_one_hot)\n",
    "\n",
    "W = tf.Variable(tf.random_normal([16, nb_classes]), name='weight')\n",
    "b = tf.Variable(tf.random_normal([nb_classes]), name='bias')\n",
    "\n",
    "logits = tf.matmul(X, W) + b\n",
    "hypothesis = tf.nn.softmax(logits)  # softmax\n",
    "\n",
    "# Cross entropy cost\n",
    "# 기존 코드 \n",
    "# cost = tf.reduce_mean(-tf.reduce_sum(Y * tf.log(hypothesis), axis=1))\n",
    "# 를 함수로 만들어 놓은 것.\n",
    "# hypothesis가 아닌 logits을 인자로 받음!!\n",
    "cost_i = tf.nn.softmax_corss_entropy_with_logits(logits=logits, \n",
    "                                                 labels=Y_one_hot)\n",
    "cost = tf.reduce_mean(cost_i)\n",
    "optimizer = tf.train.GradientDescentOptimizer(learning_rate=0.1).minimize(cost)\n",
    "\n",
    "# 예측값\n",
    "prediction = tf.argmax(hypothesis, 1)\n",
    "correct_prediction = "
   ]
  }
 ],
 "metadata": {
  "kernelspec": {
   "display_name": "Python [conda env:tensorflow]",
   "language": "python",
   "name": "conda-env-tensorflow-py"
  },
  "language_info": {
   "codemirror_mode": {
    "name": "ipython",
    "version": 3
   },
   "file_extension": ".py",
   "mimetype": "text/x-python",
   "name": "python",
   "nbconvert_exporter": "python",
   "pygments_lexer": "ipython3",
   "version": "3.5.5"
  }
 },
 "nbformat": 4,
 "nbformat_minor": 2
}
