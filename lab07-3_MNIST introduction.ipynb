{
 "cells": [
  {
   "cell_type": "code",
   "execution_count": 6,
   "metadata": {},
   "outputs": [
    {
     "name": "stdout",
     "output_type": "stream",
     "text": [
      "Extracting MNIST_data/train-images-idx3-ubyte.gz\n",
      "Extracting MNIST_data/train-labels-idx1-ubyte.gz\n",
      "Extracting MNIST_data/t10k-images-idx3-ubyte.gz\n",
      "Extracting MNIST_data/t10k-labels-idx1-ubyte.gz\n",
      "Epoch: 0001 cost = 2.975411531\n",
      "Epoch: 0002 cost = 1.150796068\n",
      "Epoch: 0003 cost = 0.903651972\n",
      "Epoch: 0004 cost = 0.787480143\n",
      "Epoch: 0005 cost = 0.714347795\n",
      "Epoch: 0006 cost = 0.663782198\n",
      "Epoch: 0007 cost = 0.625160652\n",
      "Epoch: 0008 cost = 0.594753492\n",
      "Epoch: 0009 cost = 0.569160740\n",
      "Epoch: 0010 cost = 0.547868572\n",
      "Epoch: 0011 cost = 0.530026864\n",
      "Epoch: 0012 cost = 0.513746243\n",
      "Epoch: 0013 cost = 0.499196470\n",
      "Epoch: 0014 cost = 0.487182105\n",
      "Epoch: 0015 cost = 0.475395189\n",
      "Learning finished\n",
      "Accuracy: 0.8884\n",
      "Label: [4]\n",
      "Prediction: [4]\n"
     ]
    },
    {
     "data": {
      "image/png": "[encoded data removed]",
      "text/plain": [
       "<Figure size 432x288 with 1 Axes>"
      ]
     },
     "metadata": {},
     "output_type": "display_data"
    }
   ],
   "source": [
    "## MNIST : 손으로 쓴 숫자들로 이루어진 데이터베이스 ##\n",
    "## 숫자 이미지는 28*28, 총 784 픽셀로 되어있다. ##\n",
    "\n",
    "import tensorflow as tf\n",
    "import random\n",
    "import matplotlib.pyplot as plt\n",
    "tf.set_random_seed(777)\n",
    "\n",
    "# https://www.tensorflow.org/get_started/mnist/beginners\n",
    "from tensorflow.examples.tutorials.mnist import input_data\n",
    "mnist = input_data.read_data_sets(\"MNIST_data/\", one_hot=True)\n",
    "\n",
    "# 숫자 0 ~ 9까지 10개\n",
    "nb_classes = 10\n",
    "\n",
    "X = tf.placeholder(tf.float32, [None, 784])\n",
    "Y = tf.placeholder(tf.float32, [None, nb_classes])\n",
    "\n",
    "W = tf.Variable(tf.random_normal([784, nb_classes]))\n",
    "b = tf.Variable(tf.random_normal([nb_classes]))\n",
    "\n",
    "hypothesis = tf.nn.softmax(tf.matmul(X, W) + b)\n",
    "cost = tf.reduce_mean(-tf.reduce_sum(Y * tf.log(hypothesis), axis=1))\n",
    "optimizer = tf.train.GradientDescentOptimizer(learning_rate=0.1).minimize(cost)\n",
    "\n",
    "# Test\n",
    "is_correct = tf.equal(tf.argmax(hypothesis, 1), tf.argmax(Y, 1))\n",
    "accuracy = tf.reduce_mean(tf.cast(is_correct, tf.float32))\n",
    "\n",
    "# Parameters\n",
    "training_epochs = 15\n",
    "batch_size = 100\n",
    "# epoch : 전체 데이터를 1번 학습하면 1 epoch\n",
    "# batch_size : 전체 데이터를 n개씩 나누어 학습\n",
    "# 전체 데이터를 100개씩 나누어서 학습하되, 전체 데이터를 15번 학습\n",
    "# 예를 들어, 전체 데이터가 1000개이면, 100개씩 10번 학습하면 1 epoch\n",
    "# 따라서 총 150번 학습하면 15 epochs\n",
    "\n",
    "with tf.Session() as sess:\n",
    "    sess.run(tf.global_variables_initializer())\n",
    "    \n",
    "    for epoch in range(training_epochs):\n",
    "        avg_cost = 0\n",
    "        total_batch = int(mnist.train.num_examples / batch_size)\n",
    "        \n",
    "        for i in range(total_batch):\n",
    "            batch_xs, batch_ys = mnist.train.next_batch(batch_size)\n",
    "            c, _ = sess.run([cost, optimizer], \n",
    "                            feed_dict={X: batch_xs, Y: batch_ys})\n",
    "            avg_cost += c / total_batch\n",
    "            \n",
    "        print('Epoch:', '%04d' % (epoch + 1),\n",
    "             'cost =', '{:.9f}'.format(avg_cost))\n",
    "        \n",
    "    print(\"Learning finished\")\n",
    "    \n",
    "    # 정확도\n",
    "    print(\"Accuracy:\", accuracy.eval(session=sess, \n",
    "            feed_dict={X: mnist.test.images, Y: mnist.test.labels}))\n",
    "    \n",
    "    # 랜덤으로 하나를 가져와서 예측\n",
    "    r = random.randint(0, mnist.test.num_examples - 1)\n",
    "    print(\"Label:\", sess.run(tf.argmax(mnist.test.labels[r:r+1], 1)))\n",
    "    print(\"Prediction:\", sess.run(tf.argmax(hypothesis, 1),\n",
    "            feed_dict={X: mnist.test.images[r:r+1]}))\n",
    "    \n",
    "    plt.imshow(\n",
    "        mnist.test.images[r:r+1].reshape(28, 28),\n",
    "        cmap='Greys',\n",
    "        interpolation='nearest'\n",
    "    )\n",
    "    plt.show()\n",
    "        "
   ]
  }
 ],
 "metadata": {
  "kernelspec": {
   "display_name": "Python [conda env:tensorflow]",
   "language": "python",
   "name": "conda-env-tensorflow-py"
  },
  "language_info": {
   "codemirror_mode": {
    "name": "ipython",
    "version": 3
   },
   "file_extension": ".py",
   "mimetype": "text/x-python",
   "name": "python",
   "nbconvert_exporter": "python",
   "pygments_lexer": "ipython3",
   "version": "3.5.5"
  }
 },
 "nbformat": 4,
 "nbformat_minor": 2
}
