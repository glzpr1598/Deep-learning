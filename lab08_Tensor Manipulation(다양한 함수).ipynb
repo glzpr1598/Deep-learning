{
 "cells": [
  {
   "cell_type": "code",
   "execution_count": 1,
   "metadata": {},
   "outputs": [],
   "source": [
    "import tensorflow as tf\n",
    "import numpy as np\n",
    "import pprint\n",
    "tf.set_random_seed(777)\n",
    "\n",
    "pp = pprint.PrettyPrinter(indent=4)\n",
    "sess = tf.InteractiveSession()"
   ]
  },
  {
   "cell_type": "code",
   "execution_count": 2,
   "metadata": {},
   "outputs": [
    {
     "name": "stdout",
     "output_type": "stream",
     "text": [
      "array([0., 1., 2., 3., 4., 5., 6.])\n",
      "1\n",
      "(7,)\n",
      "0.0 1.0 6.0\n",
      "[2. 3. 4.] [4. 5.]\n",
      "[0. 1.] [3. 4. 5. 6.]\n"
     ]
    }
   ],
   "source": [
    "## 배열, slicing ##\n",
    "\n",
    "t = np.array([0., 1., 2., 3., 4., 5., 6.])\n",
    "pp.pprint(t)\n",
    "print(t.ndim) # rank\n",
    "print(t.shape) # shape\n",
    "print(t[0], t[1], t[-1])# -1은 마지막 원소\n",
    "print(t[2:5], t[4:-1]) # 2번부터 5번 전까지(slicing), 4번부터 마지막 전까지\n",
    "print(t[:2], t[3:]) # 처음부터 2번까지, 3부터 마지막까지"
   ]
  },
  {
   "cell_type": "code",
   "execution_count": 4,
   "metadata": {},
   "outputs": [
    {
     "name": "stdout",
     "output_type": "stream",
     "text": [
      "array([[ 1.,  2.,  3.],\n",
      "       [ 4.,  5.,  6.],\n",
      "       [ 7.,  8.,  9.],\n",
      "       [10., 11., 12.]])\n",
      "2\n",
      "(4, 3)\n"
     ]
    }
   ],
   "source": [
    "## 2차원 배열 ##\n",
    "\n",
    "t = np.array([[1., 2., 3.], [4., 5., 6.], [7., 8., 9.], [10., 11., 12.]])\n",
    "pp.pprint(t)\n",
    "print(t.ndim) # rank\n",
    "print(t.shape) # shape"
   ]
  },
  {
   "cell_type": "code",
   "execution_count": 73,
   "metadata": {},
   "outputs": [
    {
     "name": "stdout",
     "output_type": "stream",
     "text": [
      "1\n",
      " [4]\n",
      "2\n",
      " [2 2]\n",
      "3\n",
      " [1 2 3 4]\n"
     ]
    },
    {
     "data": {
      "text/plain": [
       "[[[[1, 2, 3, 4], [5, 6, 7, 8], [9, 10, 11, 12]],\n",
       "  [[13, 14, 15, 16], [17, 18, 19, 20], [21, 22, 23, 24]]]]"
      ]
     },
     "execution_count": 73,
     "metadata": {},
     "output_type": "execute_result"
    }
   ],
   "source": [
    "## Shape, Rank, Axis ##\n",
    "\n",
    "t = tf.constant([1,2,3,4])\n",
    "print(\"1\\n\", tf.shape(t).eval())\n",
    "\n",
    "t = tf.constant([[1,2],\n",
    "                 [3,4]])\n",
    "print(\"2\\n\", tf.shape(t).eval())\n",
    "\n",
    "t = tf.constant([[[[1, 2, 3, 4], [5, 6, 7, 8], [9, 10, 11, 12]],[[13, 14, 15, 16], [17, 18, 19, 20], [21, 22, 23, 24]]]])\n",
    "print(\"3\\n\", tf.shape(t).eval())\n",
    "\n",
    "[ # axis = 0\n",
    "    [ # axis = 1\n",
    "        [ # axis = 2\n",
    "            [1,2,3,4], # axis = 3\n",
    "            [5,6,7,8],\n",
    "            [9,10,11,12]\n",
    "        ],\n",
    "        [\n",
    "            [13,14,15,16],\n",
    "            [17,18,19,20], \n",
    "            [21,22,23,24]\n",
    "        ]\n",
    "    ]\n",
    "]"
   ]
  },
  {
   "cell_type": "code",
   "execution_count": 75,
   "metadata": {},
   "outputs": [
    {
     "name": "stdout",
     "output_type": "stream",
     "text": [
      "1\n",
      " [[12.]]\n",
      "2\n",
      " [[6. 6.]\n",
      " [6. 6.]]\n"
     ]
    }
   ],
   "source": [
    "## Matmul, Multiply ##\n",
    "# 행렬 곱셈\n",
    "\n",
    "matrix1 = tf.constant([[3., 3.]]) # [1, 2]\n",
    "matrix2 = tf.constant([[2.],[2.]]) # [2, 1]\n",
    "\n",
    "print(\"1\\n\", tf.matmul(matrix1, matrix2).eval()) # [1, 1]\n",
    "\n",
    "# 곱셈을 하지 않도록 주의!\n",
    "# shape이 달라도 broadcasting으로 인해 곱셈이 됨.\n",
    "print(\"2\\n\", (matrix1*matrix2).eval())"
   ]
  },
  {
   "cell_type": "code",
   "execution_count": 80,
   "metadata": {},
   "outputs": [
    {
     "name": "stdout",
     "output_type": "stream",
     "text": [
      "1\n",
      " 1\n",
      "2\n",
      " 2.5\n",
      "3\n",
      " [2. 3.]\n",
      "4\n",
      " [1.5 3.5]\n",
      "5\n",
      " [1.5 3.5]\n"
     ]
    }
   ],
   "source": [
    "## Reduce mean ##\n",
    "# 평균\n",
    "\n",
    "print(\"1\\n\", tf.reduce_mean([1, 2], axis=0).eval())\n",
    "# Integer의 평균 -> 정수 반환\n",
    "\n",
    "x = [[1., 2.],\n",
    "     [3., 4.]]\n",
    "\n",
    "print(\"2\\n\", tf.reduce_mean(x).eval())\n",
    "# axis를 쓰지 않으면 전체 원소의 평균\n",
    "\n",
    "print(\"3\\n\", tf.reduce_mean(x, axis=0).eval())\n",
    "# [1., 2.]와 [3., 4.]의 평균\n",
    "\n",
    "print(\"4\\n\", tf.reduce_mean(x, axis=1).eval())\n",
    "# [1., 2]의 평균, [3., 4.]의 평균\n",
    "\n",
    "print(\"5\\n\", tf.reduce_mean(x, axis=-1).eval())\n",
    "# axis=1과 같음"
   ]
  },
  {
   "cell_type": "code",
   "execution_count": 83,
   "metadata": {},
   "outputs": [
    {
     "name": "stdout",
     "output_type": "stream",
     "text": [
      "1\n",
      " 10.0\n",
      "2\n",
      " [4. 6.]\n",
      "3\n",
      " [3. 7.]\n",
      "4\n",
      " 5.0\n"
     ]
    }
   ],
   "source": [
    "## Reduce sum ##\n",
    "# 합\n",
    "\n",
    "x = [[1., 2.],\n",
    "     [3., 4.]]\n",
    "\n",
    "print(\"1\\n\", tf.reduce_sum(x).eval())\n",
    "\n",
    "print(\"2\\n\", tf.reduce_sum(x, axis=0).eval())\n",
    "\n",
    "print(\"3\\n\", tf.reduce_sum(x, axis=-1).eval())\n",
    "\n",
    "print(\"4\\n\", tf.reduce_mean(tf.reduce_sum(x, axis=-1)).eval())\n",
    "# 제일 안쪽 원소를 합한 뒤에 평균을 냄"
   ]
  },
  {
   "cell_type": "code",
   "execution_count": 84,
   "metadata": {},
   "outputs": [
    {
     "name": "stdout",
     "output_type": "stream",
     "text": [
      "1\n",
      " [1 0 0]\n",
      "2\n",
      " [2 0]\n",
      "3\n",
      " [2 0]\n"
     ]
    }
   ],
   "source": [
    "## Argmax ##\n",
    "\n",
    "x = [[0, 1, 2],\n",
    "     [2, 1, 0]]\n",
    "\n",
    "print(\"1\\n\", tf.argmax(x, axis=0).eval())\n",
    "\n",
    "print(\"2\\n\", tf.argmax(x, axis=1).eval())\n",
    "\n",
    "print(\"3\\n\", tf.argmax(x, axis=-1).eval())"
   ]
  },
  {
   "cell_type": "code",
   "execution_count": 86,
   "metadata": {},
   "outputs": [
    {
     "name": "stdout",
     "output_type": "stream",
     "text": [
      "1\n",
      " (2, 2, 3)\n",
      "2\n",
      " [[ 0  1  2]\n",
      " [ 3  4  5]\n",
      " [ 6  7  8]\n",
      " [ 9 10 11]]\n",
      "3\n",
      " [[[ 0  1  2]]\n",
      "\n",
      " [[ 3  4  5]]\n",
      "\n",
      " [[ 6  7  8]]\n",
      "\n",
      " [[ 9 10 11]]]\n",
      "4\n",
      " [0 1 2]\n",
      "5\n",
      " [[0]\n",
      " [1]\n",
      " [2]]\n"
     ]
    }
   ],
   "source": [
    "## Reshape** ##\n",
    "# 원하는 형태로 변환\n",
    "\n",
    "t = np.array([[[0, 1, 2], \n",
    "               [3, 4, 5]],\n",
    "              \n",
    "              [[6, 7, 8], \n",
    "               [9, 10, 11]]])\n",
    "print(\"1\\n\", t.shape)\n",
    "\n",
    "print(\"2\\n\", tf.reshape(t, shape=[-1, 3]).eval()) # -1은 자동\n",
    "\n",
    "print(\"3\\n\", tf.reshape(t, shape=[-1, 1, 3]).eval())\n",
    "\n",
    "# Squeeze : 원소를 펴줌\n",
    "print(\"4\\n\", tf.squeeze([[0], [1], [2]]).eval())\n",
    "\n",
    "# Expand_dims : squeeze와 반대\n",
    "print(\"5\\n\", tf.expand_dims([0, 1, 2], 1).eval())"
   ]
  },
  {
   "cell_type": "code",
   "execution_count": 88,
   "metadata": {},
   "outputs": [
    {
     "name": "stdout",
     "output_type": "stream",
     "text": [
      "1\n",
      " [[[1. 0. 0.]]\n",
      "\n",
      " [[0. 1. 0.]]\n",
      "\n",
      " [[0. 0. 1.]]\n",
      "\n",
      " [[1. 0. 0.]]]\n",
      "2\n",
      " [[1. 0. 0.]\n",
      " [0. 1. 0.]\n",
      " [0. 0. 1.]\n",
      " [1. 0. 0.]]\n"
     ]
    }
   ],
   "source": [
    "## One hot ##\n",
    "\n",
    "print(\"1\\n\", tf.one_hot([[0], [1], [2], [0]], depth=3).eval())\n",
    "# -> rank가 1 늘어남\n",
    "\n",
    "# reshape을 통해 rank 줄이기\n",
    "t = tf.one_hot([[0], [1], [2], [0]], depth=3)\n",
    "print(\"2\\n\", tf.reshape(t, shape=[-1, 3]).eval())"
   ]
  },
  {
   "cell_type": "code",
   "execution_count": 90,
   "metadata": {},
   "outputs": [
    {
     "name": "stdout",
     "output_type": "stream",
     "text": [
      "1\n",
      " [1 2 3 4]\n",
      "2\n",
      " [1 0 1 0]\n"
     ]
    }
   ],
   "source": [
    "## Casting ##\n",
    "# 형변환\n",
    "\n",
    "print(\"1\\n\", tf.cast([1.8, 2.2, 3.3, 4.9], tf.int32).eval())\n",
    "\n",
    "print(\"2\\n\", tf.cast([True, False, 1 == 1, 0 == 1], tf.int32).eval())"
   ]
  },
  {
   "cell_type": "code",
   "execution_count": 91,
   "metadata": {},
   "outputs": [
    {
     "name": "stdout",
     "output_type": "stream",
     "text": [
      "1\n",
      " [[1 4]\n",
      " [2 5]\n",
      " [3 6]]\n",
      "2\n",
      " [[1 4]\n",
      " [2 5]\n",
      " [3 6]]\n",
      "3\n",
      " [[1 2 3]\n",
      " [4 5 6]]\n"
     ]
    }
   ],
   "source": [
    "## Stack ##\n",
    "\n",
    "x = [1, 4]\n",
    "y = [2, 5]\n",
    "z = [3, 6]\n",
    "\n",
    "print(\"1\\n\", tf.stack([x, y, z]).eval())\n",
    "\n",
    "print(\"2\\n\", tf.stack([x, y, z]).eval())\n",
    "\n",
    "print(\"3\\n\", tf.stack([x, y, z], axis=1).eval())"
   ]
  },
  {
   "cell_type": "code",
   "execution_count": 95,
   "metadata": {},
   "outputs": [
    {
     "name": "stdout",
     "output_type": "stream",
     "text": [
      "1\n",
      " [[1 1 1]\n",
      " [1 1 1]]\n",
      "2\n",
      " [[0 0 0]\n",
      " [0 0 0]]\n"
     ]
    }
   ],
   "source": [
    "## Ones like, Zeros like ##\n",
    "# 같은 shape의 1, 0으로 채워진 행렬 생성\n",
    "\n",
    "x = [[0, 1, 2],\n",
    "     [2, 1, 0]]\n",
    "\n",
    "print(\"1\\n\", tf.ones_like(x).eval())\n",
    "\n",
    "print(\"2\\n\", tf.zeros_like(x).eval())"
   ]
  },
  {
   "cell_type": "code",
   "execution_count": 97,
   "metadata": {},
   "outputs": [
    {
     "name": "stdout",
     "output_type": "stream",
     "text": [
      "1 4\n",
      "2 5\n",
      "3 6\n",
      "1 4 7\n",
      "2 5 8\n",
      "3 6 9\n"
     ]
    }
   ],
   "source": [
    "## Zip ##\n",
    "# 여러 형렬을 한번에 처리가능\n",
    "\n",
    "for x, y in zip([1, 2, 3], [4, 5, 6]):\n",
    "    print(x, y)\n",
    "\n",
    "for x, y, z in zip([1, 2, 3], [4, 5, 6], [7, 8, 9]):\n",
    "    print(x, y, z)"
   ]
  }
 ],
 "metadata": {
  "kernelspec": {
   "display_name": "Python [conda env:tensorflow]",
   "language": "python",
   "name": "conda-env-tensorflow-py"
  },
  "language_info": {
   "codemirror_mode": {
    "name": "ipython",
    "version": 3
   },
   "file_extension": ".py",
   "mimetype": "text/x-python",
   "name": "python",
   "nbconvert_exporter": "python",
   "pygments_lexer": "ipython3",
   "version": "3.5.5"
  }
 },
 "nbformat": 4,
 "nbformat_minor": 2
}
